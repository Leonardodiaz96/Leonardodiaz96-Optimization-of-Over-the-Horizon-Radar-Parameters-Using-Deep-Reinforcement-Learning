import os
import numpy as np
import tensorflow as tf
from tensorflow.keras.models import load_model

directory = r'C:\Users\leona\Desktop\TESIS\software\simulador_core\IA\trains'

# Verificar si el directorio existe
if os.path.exists(directory):
    # Lista todos los archivos .keras en el directorio
    model_files = [os.path.join(directory, file) for file in os.listdir(directory) if file.endswith('.keras')]

    # Lista para almacenar los modelos cargados
    models = []

    # Cargar cada modelo y añadirlo a la lista
    for model_file in model_files:
        try:
            model = load_model(model_file)
            models.append(model)
            print(f"Modelo cargado exitosamente desde {model_file}")
        except Exception as e:
            print(f"Error al cargar el modelo desde {model_file}: {e}")

    # Si se necesitan utilizar los modelos cargados, puedes hacerlo aquí.
    # Por ejemplo, imprimir un resumen de cada modelo:
    for model in models:
        model.summary()
else:
    print(f"El directorio especificado no existe: {directory}")

"""
# Preparar los datos de entrada (asegúrate de que este paso es correcto para tu caso)
input_data = np.random.rand(1, n_features)  # Asume que 'n_features' es el número de características esperadas por el modelo

# Hacer predicciones con cada modelo y almacenar resultados
predictions = [model.predict(input_data) for model in models]

# Aquí puedes decidir cómo utilizar estas predicciones, por ejemplo, promediando:
average_prediction = np.mean(predictions, axis=0)
print("Predicción promedio:", average_prediction)

"""
